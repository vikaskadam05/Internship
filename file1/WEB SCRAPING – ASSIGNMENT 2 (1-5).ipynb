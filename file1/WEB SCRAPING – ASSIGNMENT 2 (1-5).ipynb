{
 "cells": [
  {
   "cell_type": "code",
   "execution_count": 1,
   "id": "381d8d41",
   "metadata": {},
   "outputs": [
    {
     "name": "stdout",
     "output_type": "stream",
     "text": [
      "Requirement already satisfied: selenium in c:\\users\\vikas\\anaconda3\\lib\\site-packages (4.15.2)\n",
      "Requirement already satisfied: urllib3[socks]<3,>=1.26 in c:\\users\\vikas\\anaconda3\\lib\\site-packages (from selenium) (1.26.14)\n",
      "Requirement already satisfied: trio~=0.17 in c:\\users\\vikas\\anaconda3\\lib\\site-packages (from selenium) (0.23.1)\n",
      "Requirement already satisfied: trio-websocket~=0.9 in c:\\users\\vikas\\anaconda3\\lib\\site-packages (from selenium) (0.11.1)\n",
      "Requirement already satisfied: certifi>=2021.10.8 in c:\\users\\vikas\\anaconda3\\lib\\site-packages (from selenium) (2022.12.7)\n",
      "Requirement already satisfied: sniffio>=1.3.0 in c:\\users\\vikas\\anaconda3\\lib\\site-packages (from trio~=0.17->selenium) (1.3.0)\n",
      "Requirement already satisfied: sortedcontainers in c:\\users\\vikas\\anaconda3\\lib\\site-packages (from trio~=0.17->selenium) (2.4.0)\n",
      "Requirement already satisfied: cffi>=1.14 in c:\\users\\vikas\\anaconda3\\lib\\site-packages (from trio~=0.17->selenium) (1.15.1)\n",
      "Requirement already satisfied: idna in c:\\users\\vikas\\anaconda3\\lib\\site-packages (from trio~=0.17->selenium) (3.4)\n",
      "Requirement already satisfied: exceptiongroup>=1.0.0rc9 in c:\\users\\vikas\\anaconda3\\lib\\site-packages (from trio~=0.17->selenium) (1.2.0)\n",
      "Requirement already satisfied: attrs>=20.1.0 in c:\\users\\vikas\\anaconda3\\lib\\site-packages (from trio~=0.17->selenium) (22.1.0)\n",
      "Requirement already satisfied: outcome in c:\\users\\vikas\\anaconda3\\lib\\site-packages (from trio~=0.17->selenium) (1.3.0.post0)\n",
      "Requirement already satisfied: wsproto>=0.14 in c:\\users\\vikas\\anaconda3\\lib\\site-packages (from trio-websocket~=0.9->selenium) (1.2.0)\n",
      "Requirement already satisfied: PySocks!=1.5.7,<2.0,>=1.5.6 in c:\\users\\vikas\\anaconda3\\lib\\site-packages (from urllib3[socks]<3,>=1.26->selenium) (1.7.1)\n",
      "Requirement already satisfied: pycparser in c:\\users\\vikas\\anaconda3\\lib\\site-packages (from cffi>=1.14->trio~=0.17->selenium) (2.21)\n",
      "Requirement already satisfied: h11<1,>=0.9.0 in c:\\users\\vikas\\anaconda3\\lib\\site-packages (from wsproto>=0.14->trio-websocket~=0.9->selenium) (0.14.0)\n"
     ]
    }
   ],
   "source": [
    "!pip install selenium"
   ]
  },
  {
   "cell_type": "code",
   "execution_count": 3,
   "id": "bcd4a555",
   "metadata": {},
   "outputs": [],
   "source": [
    "import selenium\n",
    "import pandas as pd\n",
    "from selenium import webdriver\n",
    "from selenium.webdriver.common.by import By\n",
    "import time"
   ]
  },
  {
   "cell_type": "code",
   "execution_count": 4,
   "id": "fbfd3c1f",
   "metadata": {},
   "outputs": [],
   "source": [
    "import warnings\n",
    "warnings.filterwarnings('ignore')"
   ]
  },
  {
   "cell_type": "markdown",
   "id": "8f42cad9",
   "metadata": {},
   "source": [
    "# Q1. Write a python program to scrape data for “Data Analyst” Job position in “Bangalore” location. You have to scrape the job-title, job-location, company_name, experience_required. You have to scrape first 10 jobs data.\n",
    "This task will be done in following steps:\n",
    "1. First get the webpage https://www.shine.com/\n",
    "2. Enter “Data Analyst” in “Job title, Skills” field and enter “Bangalore” in “enter the location” field.\n",
    "3. Then click the search button.\n",
    "4. Then scrape the data for the first 10 jobs results you get.\n",
    "5. Finally create a dataframe of the scraped data."
   ]
  },
  {
   "cell_type": "code",
   "execution_count": 4,
   "id": "081d8d84",
   "metadata": {},
   "outputs": [],
   "source": [
    "driver=webdriver.Chrome()"
   ]
  },
  {
   "cell_type": "code",
   "execution_count": 5,
   "id": "63005d3d",
   "metadata": {},
   "outputs": [],
   "source": [
    "#Opening the Shine page on automated Chrome browser\n",
    "driver.get(\"https://www.shine.com/\")"
   ]
  },
  {
   "cell_type": "code",
   "execution_count": 26,
   "id": "1346a5ff",
   "metadata": {},
   "outputs": [],
   "source": [
    "# Entering Job Position, Location and Experience required in the question.\n",
    "\n",
    "job_position=driver.find_element(By.XPATH,\"/html/body/div/div[4]/div/div[2]/div[2]/div/form/div/div[1]/ul/li[1]/div/input\")\n"
   ]
  },
  {
   "cell_type": "code",
   "execution_count": 27,
   "id": "115269e5",
   "metadata": {},
   "outputs": [],
   "source": [
    "job_position.send_keys('Data Analyst')"
   ]
  },
  {
   "cell_type": "code",
   "execution_count": 28,
   "id": "3efc3c39",
   "metadata": {},
   "outputs": [],
   "source": [
    "location=driver.find_element(By.XPATH,\"/html/body/div/div[4]/div/div[2]/div[2]/div/form/div/div[1]/ul/li[2]/div/input\")\n",
    "location.send_keys('Bangalore')"
   ]
  },
  {
   "cell_type": "code",
   "execution_count": 30,
   "id": "180fbbce",
   "metadata": {},
   "outputs": [],
   "source": [
    "search=driver.find_element(By.CLASS_NAME,\"searchForm_btnWrap_advance__VYBHN\")\n",
    "search.click()"
   ]
  },
  {
   "cell_type": "code",
   "execution_count": 55,
   "id": "e414ef84",
   "metadata": {},
   "outputs": [],
   "source": [
    "job_title=[]\n",
    "job_location=[]\n",
    "company_name=[]\n",
    "experience_required=[]"
   ]
  },
  {
   "cell_type": "code",
   "execution_count": 169,
   "id": "83c59734",
   "metadata": {},
   "outputs": [],
   "source": [
    "#Scraping job title from the given page\n",
    "title_tag=driver.find_elements(By.XPATH,'//h2[/html/body/div[1]/div[1]/div[4]/div/div[2]/div[1]/div/div/div[1]/div[1]/div[1]/h2]')\n"
   ]
  },
  {
   "cell_type": "code",
   "execution_count": 170,
   "id": "6fcc3d96",
   "metadata": {},
   "outputs": [],
   "source": [
    "for i in title_tag:\n",
    "    title=i.text\n",
    "    job_title.append(title)"
   ]
  },
  {
   "cell_type": "code",
   "execution_count": 173,
   "id": "4bb910f0",
   "metadata": {},
   "outputs": [],
   "source": [
    "job=job_title[0:10]"
   ]
  },
  {
   "cell_type": "code",
   "execution_count": 159,
   "id": "205b91af",
   "metadata": {},
   "outputs": [],
   "source": [
    "#Scraping location from the given page\n",
    "\n",
    "location_tag=driver.find_elements(By.XPATH,'//div[@class=\"jobCard_jobCard_lists__fdnsc\"]/div[2]')\n"
   ]
  },
  {
   "cell_type": "code",
   "execution_count": 158,
   "id": "cc52cefe",
   "metadata": {},
   "outputs": [],
   "source": [
    "for i in location_tag:\n",
    "    location=i.text.replace('Bangalore\\n+9','Bangalore')\n",
    "    job_location.append(location)"
   ]
  },
  {
   "cell_type": "code",
   "execution_count": 162,
   "id": "168a5d20",
   "metadata": {},
   "outputs": [],
   "source": [
    "job_location=job_location[0:10]"
   ]
  },
  {
   "cell_type": "code",
   "execution_count": 135,
   "id": "e8e3318e",
   "metadata": {},
   "outputs": [],
   "source": [
    "#Scraping company_namen from the given page\n",
    "\n",
    "company_tag=driver.find_elements(By.XPATH,'//div[@class=\"jobCard_jobCard_cName__mYnow\"]')\n"
   ]
  },
  {
   "cell_type": "code",
   "execution_count": 151,
   "id": "b9134aa6",
   "metadata": {},
   "outputs": [],
   "source": [
    "for i in company_tag:\n",
    "    company=i.text\n",
    "    company_name.append(company)"
   ]
  },
  {
   "cell_type": "code",
   "execution_count": 164,
   "id": "2919f54b",
   "metadata": {},
   "outputs": [],
   "source": [
    "company_name=company_name[:10]"
   ]
  },
  {
   "cell_type": "code",
   "execution_count": 150,
   "id": "dc686bb9",
   "metadata": {},
   "outputs": [],
   "source": [
    "experience_tag=driver.find_elements(By.XPATH,'//div[@class=\"jobCard_jobCard_lists__fdnsc\"]/div[1]')"
   ]
  },
  {
   "cell_type": "code",
   "execution_count": 152,
   "id": "699733e3",
   "metadata": {},
   "outputs": [],
   "source": [
    "for i in experience_tag:\n",
    "    experience=i.text\n",
    "    experience_required.append(experience)"
   ]
  },
  {
   "cell_type": "code",
   "execution_count": 165,
   "id": "2fc94403",
   "metadata": {},
   "outputs": [],
   "source": [
    "experience_required=experience_required[:10]"
   ]
  },
  {
   "cell_type": "code",
   "execution_count": null,
   "id": "b361ab28",
   "metadata": {},
   "outputs": [],
   "source": []
  },
  {
   "cell_type": "code",
   "execution_count": 176,
   "id": "38ab4b26",
   "metadata": {},
   "outputs": [],
   "source": [
    "df1=pd.DataFrame({'Job Title':job,'Job Location':job_location,'Company Name':company_name,'Experience Required':experience_required})"
   ]
  },
  {
   "cell_type": "code",
   "execution_count": 177,
   "id": "dcdb5464",
   "metadata": {},
   "outputs": [
    {
     "data": {
      "text/html": [
       "<div>\n",
       "<style scoped>\n",
       "    .dataframe tbody tr th:only-of-type {\n",
       "        vertical-align: middle;\n",
       "    }\n",
       "\n",
       "    .dataframe tbody tr th {\n",
       "        vertical-align: top;\n",
       "    }\n",
       "\n",
       "    .dataframe thead th {\n",
       "        text-align: right;\n",
       "    }\n",
       "</style>\n",
       "<table border=\"1\" class=\"dataframe\">\n",
       "  <thead>\n",
       "    <tr style=\"text-align: right;\">\n",
       "      <th></th>\n",
       "      <th>Job Title</th>\n",
       "      <th>Job Location</th>\n",
       "      <th>Company Name</th>\n",
       "      <th>Experience Required</th>\n",
       "    </tr>\n",
       "  </thead>\n",
       "  <tbody>\n",
       "    <tr>\n",
       "      <th>0</th>\n",
       "      <td>Data Analyst Recruitment</td>\n",
       "      <td>Bangalore</td>\n",
       "      <td>kavya interprises</td>\n",
       "      <td>0 to 4 Yrs</td>\n",
       "    </tr>\n",
       "    <tr>\n",
       "      <th>1</th>\n",
       "      <td>Data Analyst</td>\n",
       "      <td>Bangalore</td>\n",
       "      <td>hire connect</td>\n",
       "      <td>0 to 1 Yr</td>\n",
       "    </tr>\n",
       "    <tr>\n",
       "      <th>2</th>\n",
       "      <td>Vacancy For Data Analyst</td>\n",
       "      <td>Bangalore</td>\n",
       "      <td>kavya interprises</td>\n",
       "      <td>0 to 4 Yrs</td>\n",
       "    </tr>\n",
       "    <tr>\n",
       "      <th>3</th>\n",
       "      <td>Project Coordinator (Data Analyst) Bangalore</td>\n",
       "      <td>Bangalore</td>\n",
       "      <td>futures and careers</td>\n",
       "      <td>2 to 4 Yrs</td>\n",
       "    </tr>\n",
       "    <tr>\n",
       "      <th>4</th>\n",
       "      <td>Project Coordinator (Data analyst) Bangalore</td>\n",
       "      <td>Bangalore</td>\n",
       "      <td>futures and careers</td>\n",
       "      <td>2 to 4 Yrs</td>\n",
       "    </tr>\n",
       "    <tr>\n",
       "      <th>5</th>\n",
       "      <td>Business Data Analyst - Modeling &amp; Profiling</td>\n",
       "      <td>Bangalore</td>\n",
       "      <td>boyen haddin consulting and technol...</td>\n",
       "      <td>2 to 6 Yrs</td>\n",
       "    </tr>\n",
       "    <tr>\n",
       "      <th>6</th>\n",
       "      <td>How relevant did you find the job search resul...</td>\n",
       "      <td>Bangalore</td>\n",
       "      <td>boyen haddin consulting and technol...</td>\n",
       "      <td>5 to 10 Yrs</td>\n",
       "    </tr>\n",
       "    <tr>\n",
       "      <th>7</th>\n",
       "      <td>Data analyst - Java / Python</td>\n",
       "      <td>Bangalore</td>\n",
       "      <td>boyen haddin consulting and technol...</td>\n",
       "      <td>2 to 6 Yrs</td>\n",
       "    </tr>\n",
       "    <tr>\n",
       "      <th>8</th>\n",
       "      <td>Data Analyst - Java/Python</td>\n",
       "      <td>Bangalore</td>\n",
       "      <td>boyen haddin consulting and technol...</td>\n",
       "      <td>2 to 6 Yrs</td>\n",
       "    </tr>\n",
       "    <tr>\n",
       "      <th>9</th>\n",
       "      <td>Data Analyst - SQL/ Database Maintenance</td>\n",
       "      <td>Bangalore\\n+9</td>\n",
       "      <td>boyen haddin consulting and technol...</td>\n",
       "      <td>2 to 6 Yrs</td>\n",
       "    </tr>\n",
       "  </tbody>\n",
       "</table>\n",
       "</div>"
      ],
      "text/plain": [
       "                                           Job Title   Job Location  \\\n",
       "0                           Data Analyst Recruitment      Bangalore   \n",
       "1                                       Data Analyst      Bangalore   \n",
       "2                           Vacancy For Data Analyst      Bangalore   \n",
       "3       Project Coordinator (Data Analyst) Bangalore      Bangalore   \n",
       "4       Project Coordinator (Data analyst) Bangalore      Bangalore   \n",
       "5       Business Data Analyst - Modeling & Profiling      Bangalore   \n",
       "6  How relevant did you find the job search resul...      Bangalore   \n",
       "7                       Data analyst - Java / Python      Bangalore   \n",
       "8                         Data Analyst - Java/Python      Bangalore   \n",
       "9           Data Analyst - SQL/ Database Maintenance  Bangalore\\n+9   \n",
       "\n",
       "                             Company Name Experience Required  \n",
       "0                       kavya interprises          0 to 4 Yrs  \n",
       "1                            hire connect           0 to 1 Yr  \n",
       "2                       kavya interprises          0 to 4 Yrs  \n",
       "3                     futures and careers          2 to 4 Yrs  \n",
       "4                     futures and careers          2 to 4 Yrs  \n",
       "5  boyen haddin consulting and technol...          2 to 6 Yrs  \n",
       "6  boyen haddin consulting and technol...         5 to 10 Yrs  \n",
       "7  boyen haddin consulting and technol...          2 to 6 Yrs  \n",
       "8  boyen haddin consulting and technol...          2 to 6 Yrs  \n",
       "9  boyen haddin consulting and technol...          2 to 6 Yrs  "
      ]
     },
     "execution_count": 177,
     "metadata": {},
     "output_type": "execute_result"
    }
   ],
   "source": [
    "df1"
   ]
  },
  {
   "cell_type": "markdown",
   "id": "4b17536a",
   "metadata": {},
   "source": [
    "# Q2: Write a python program to scrape data for “Data Scientist” Job position in “Bangalore” location. You have to scrape the job-title, job-location, company_name. You have to scrape first 10 jobs data.\n",
    "This task will be done in following steps:\n",
    "1. First get the webpage https://www.shine.com/\n",
    "2. Enter “Data Scientist” in “Job title, Skills” field and enter “Bangalore” in “enter the location” field.\n",
    "3. Then click the search button.\n",
    "4. Then scrape the data for the first 10 jobs results you get.\n",
    "5. Finally create a dataframe of the scraped data."
   ]
  },
  {
   "cell_type": "code",
   "execution_count": 181,
   "id": "1b8da5b6",
   "metadata": {},
   "outputs": [],
   "source": [
    "#Opening the Shine page on automated Chrome browser\n",
    "driver=webdriver.Chrome()\n",
    "driver.get(\"https://www.shine.com/\")"
   ]
  },
  {
   "cell_type": "code",
   "execution_count": 195,
   "id": "1ef5e797",
   "metadata": {},
   "outputs": [],
   "source": [
    "# Entering Job Position, Location and Experience required in the question.\n",
    "job_position_1=driver.find_element(By.XPATH,\"/html/body/div/div[4]/div/div[2]/div[2]/div/form/div/div[1]/ul/li[1]/div/input\")\n",
    "job_position_1.send_keys('Data Scientist')\n",
    "\n",
    "location_1=driver.find_element(By.XPATH,\"/html/body/div/div[4]/div/div[2]/div[2]/div/form/div/div[1]/ul/li[2]/div/input\")\n",
    "location_1.send_keys('Bangalore')\n",
    "\n",
    "search=driver.find_element(By.CLASS_NAME,\"searchForm_btnWrap_advance__VYBHN\")\n",
    "search.click()"
   ]
  },
  {
   "cell_type": "code",
   "execution_count": 241,
   "id": "79b6fb72",
   "metadata": {},
   "outputs": [],
   "source": [
    "job_title1=[]\n",
    "job_location_1=[]\n",
    "company_name_1=[]"
   ]
  },
  {
   "cell_type": "code",
   "execution_count": 242,
   "id": "69ce7357",
   "metadata": {},
   "outputs": [],
   "source": [
    "#Scraping job title from the given page\n",
    "tab_jobtitle=driver.find_elements(By.XPATH,'//h2[/html/body/div[1]/div[1]/div[4]/div/div[2]/div[1]/div/div/div[1]/div[1]/div[1]/h2]')\n",
    "\n",
    "for i in tab_jobtitle:\n",
    "    title_1=i.text\n",
    "    job_title1.append(title_1)"
   ]
  },
  {
   "cell_type": "code",
   "execution_count": 246,
   "id": "d4dc4baf",
   "metadata": {},
   "outputs": [],
   "source": [
    "#Scraping job location from the given page\n",
    "tab_joblocation=driver.find_elements(By.XPATH,'//div[@class=\"jobCard_jobCard_cName__mYnow\"]')\n",
    "\n",
    "for i in tab_joblocation:\n",
    "    location_1=i.text\n",
    "    job_location_1.append(location_1)"
   ]
  },
  {
   "cell_type": "code",
   "execution_count": 249,
   "id": "1b68a7fc",
   "metadata": {},
   "outputs": [],
   "source": [
    "#Scraping company name from the given page\n",
    "tab_companyname=driver.find_elements(By.XPATH,'//div[@class=\"jobCard_jobCard_cName__mYnow\"]')\n",
    "\n",
    "for i in tab_companyname:\n",
    "    company_1=i.text\n",
    "    company_name_1.append(company_1)"
   ]
  },
  {
   "cell_type": "code",
   "execution_count": 255,
   "id": "8544923b",
   "metadata": {},
   "outputs": [],
   "source": [
    "job_1=job_title1[2:12]\n",
    "location_1=job_location_1[:10]\n",
    "company_1=company_name_1[:10]"
   ]
  },
  {
   "cell_type": "code",
   "execution_count": 256,
   "id": "03d4b832",
   "metadata": {},
   "outputs": [],
   "source": [
    "df2=pd.DataFrame({'Job Title':job_1,'Location':location_1,'Company Name':company_1})"
   ]
  },
  {
   "cell_type": "code",
   "execution_count": 257,
   "id": "dd03273d",
   "metadata": {},
   "outputs": [
    {
     "data": {
      "text/html": [
       "<div>\n",
       "<style scoped>\n",
       "    .dataframe tbody tr th:only-of-type {\n",
       "        vertical-align: middle;\n",
       "    }\n",
       "\n",
       "    .dataframe tbody tr th {\n",
       "        vertical-align: top;\n",
       "    }\n",
       "\n",
       "    .dataframe thead th {\n",
       "        text-align: right;\n",
       "    }\n",
       "</style>\n",
       "<table border=\"1\" class=\"dataframe\">\n",
       "  <thead>\n",
       "    <tr style=\"text-align: right;\">\n",
       "      <th></th>\n",
       "      <th>Job Title</th>\n",
       "      <th>Location</th>\n",
       "      <th>Company Name</th>\n",
       "    </tr>\n",
       "  </thead>\n",
       "  <tbody>\n",
       "    <tr>\n",
       "      <th>0</th>\n",
       "      <td>Data scientist</td>\n",
       "      <td>Bangalore\\n+8</td>\n",
       "      <td>capgemini technology services india...</td>\n",
       "    </tr>\n",
       "    <tr>\n",
       "      <th>1</th>\n",
       "      <td>Data Scientist - Business Intelligence</td>\n",
       "      <td>Bangalore</td>\n",
       "      <td>boyen haddin consulting and technol...</td>\n",
       "    </tr>\n",
       "    <tr>\n",
       "      <th>2</th>\n",
       "      <td>Data Scientist for Bangalore</td>\n",
       "      <td>Bangalore</td>\n",
       "      <td>get hired</td>\n",
       "    </tr>\n",
       "    <tr>\n",
       "      <th>3</th>\n",
       "      <td>Hiring For Data Scientist</td>\n",
       "      <td>Bangalore\\n+13</td>\n",
       "      <td>kavya interprises</td>\n",
       "    </tr>\n",
       "    <tr>\n",
       "      <th>4</th>\n",
       "      <td>Hiring For Data Scientist</td>\n",
       "      <td>Bangalore\\n+13</td>\n",
       "      <td>kavya interprises</td>\n",
       "    </tr>\n",
       "    <tr>\n",
       "      <th>5</th>\n",
       "      <td>Data Scientist - Spark/Python/Redshift</td>\n",
       "      <td>Bangalore</td>\n",
       "      <td>boyen haddin consulting and technol...</td>\n",
       "    </tr>\n",
       "    <tr>\n",
       "      <th>6</th>\n",
       "      <td>How relevant did you find the job search resul...</td>\n",
       "      <td>Bangalore</td>\n",
       "      <td>boyen haddin consulting and technol...</td>\n",
       "    </tr>\n",
       "    <tr>\n",
       "      <th>7</th>\n",
       "      <td>Data Scientist - Machine Learning</td>\n",
       "      <td>Bangalore</td>\n",
       "      <td>ibm india pvt. limited</td>\n",
       "    </tr>\n",
       "    <tr>\n",
       "      <th>8</th>\n",
       "      <td>Data Scientist</td>\n",
       "      <td>Bangalore</td>\n",
       "      <td>jpmorgan</td>\n",
       "    </tr>\n",
       "    <tr>\n",
       "      <th>9</th>\n",
       "      <td>Data Scientist- Associate</td>\n",
       "      <td>Bangalore\\n+14</td>\n",
       "      <td>divya interprises</td>\n",
       "    </tr>\n",
       "  </tbody>\n",
       "</table>\n",
       "</div>"
      ],
      "text/plain": [
       "                                           Job Title        Location  \\\n",
       "0                                     Data scientist   Bangalore\\n+8   \n",
       "1             Data Scientist - Business Intelligence       Bangalore   \n",
       "2                       Data Scientist for Bangalore       Bangalore   \n",
       "3                          Hiring For Data Scientist  Bangalore\\n+13   \n",
       "4                          Hiring For Data Scientist  Bangalore\\n+13   \n",
       "5             Data Scientist - Spark/Python/Redshift       Bangalore   \n",
       "6  How relevant did you find the job search resul...       Bangalore   \n",
       "7                  Data Scientist - Machine Learning       Bangalore   \n",
       "8                                     Data Scientist       Bangalore   \n",
       "9                          Data Scientist- Associate  Bangalore\\n+14   \n",
       "\n",
       "                             Company Name  \n",
       "0  capgemini technology services india...  \n",
       "1  boyen haddin consulting and technol...  \n",
       "2                               get hired  \n",
       "3                       kavya interprises  \n",
       "4                       kavya interprises  \n",
       "5  boyen haddin consulting and technol...  \n",
       "6  boyen haddin consulting and technol...  \n",
       "7                  ibm india pvt. limited  \n",
       "8                                jpmorgan  \n",
       "9                       divya interprises  "
      ]
     },
     "execution_count": 257,
     "metadata": {},
     "output_type": "execute_result"
    }
   ],
   "source": [
    "df2"
   ]
  },
  {
   "cell_type": "markdown",
   "id": "12ca4234",
   "metadata": {},
   "source": [
    "# Q3: In this question you have to scrape data using the filters available on the webpage\n",
    "You have to use the location and salary filter.\n",
    "You have to scrape data for “Data Scientist” designation for first 10 job results.\n",
    "You have to scrape the job-title, job-location, company name, experience required. The location filter to be used is “Delhi/NCR”. The salary filter to be used is “3-6” lakhs\n",
    "The task will be done as shown in the below steps:\n",
    "1. first get the web page https://www.shine.com/\n",
    "2. Enter “Data Scientist” in “Skill, Designations, and Companies” field.\n",
    "3. Then click the search button.\n",
    "4. Then apply the location filter and salary filter by checking the respective boxes\n",
    "5. Then scrape the data for the first 10 jobs results you get.\n",
    "6. Finally create a dataframe of the scraped data."
   ]
  },
  {
   "cell_type": "code",
   "execution_count": 272,
   "id": "61402023",
   "metadata": {},
   "outputs": [],
   "source": [
    "#Opening the Shine page on automated Chrome browser\n",
    "driver=webdriver.Chrome()\n",
    "driver.get(\"https://www.shine.com/\")"
   ]
  },
  {
   "cell_type": "code",
   "execution_count": 274,
   "id": "b76a26bd",
   "metadata": {},
   "outputs": [],
   "source": [
    "#Scrape the job-title, job-location, company name, experience required\n",
    "\n",
    "job_title_2=driver.find_element(By.XPATH,'/html/body/div/div[4]/div/div[2]/div[2]/div/form/div/div[1]/ul/li[1]/div/input')\n",
    "job_title_2.send_keys('Data Scientist')\n",
    "\n",
    "search=driver.find_element(By.CLASS_NAME,\"searchForm_btnWrap_advance__VYBHN\")\n",
    "search.click()"
   ]
  },
  {
   "cell_type": "code",
   "execution_count": 303,
   "id": "3c55688d",
   "metadata": {},
   "outputs": [],
   "source": [
    "location_2=driver.find_element(By.XPATH,'/html/body/div[1]/div[1]/div[3]/div/div[1]/div/div[2]/div[2]/div/div/div/div[3]/div/div/div/ul/li[1]/input')\n",
    "location_2.send_keys('Delhi')\n",
    "\n",
    "salary_2=driver.find_element(By.XPATH,'/html/body/div[1]/div[1]/div[3]/div/div[1]/div/div[2]/div[2]/div/div/div/div[3]/div/div/div/ul/li[1]/input')\n",
    "salary_2.send_keys('3 To 5 Lakh')\n",
    "\n",
    "search_2=driver.find_element(By.XPATH,\"/html/body/div[1]/div[1]/div[3]/div/div[1]/div/div[2]/div[2]/div/div/div/div[4]/button[2]\")\n",
    "search_2.click()\n"
   ]
  },
  {
   "cell_type": "code",
   "execution_count": 5,
   "id": "067b4a32",
   "metadata": {},
   "outputs": [
    {
     "ename": "SyntaxError",
     "evalue": "invalid syntax. Perhaps you forgot a comma? (3406031829.py, line 1)",
     "output_type": "error",
     "traceback": [
      "\u001b[1;36m  Cell \u001b[1;32mIn[5], line 1\u001b[1;36m\u001b[0m\n\u001b[1;33m    job_title_2=driver.find_elements(By.XPATH,\"//h2[@itemprop=\"name\"]\")\u001b[0m\n\u001b[1;37m                                              ^\u001b[0m\n\u001b[1;31mSyntaxError\u001b[0m\u001b[1;31m:\u001b[0m invalid syntax. Perhaps you forgot a comma?\n"
     ]
    }
   ],
   "source": [
    "job_title_2=driver.find_elements(By.XPATH,\"//h2[@itemprop=\"name\"]\")\n",
    "job_title_2.send_keys('Data Scientist')\n",
    "\n",
    "location_2=driver.find_elements(By.XPATH,\"/html/body/div[1]/div[1]/div[3]/div/div[1]/div/div[2]/div[2]/div/div/div/div[3]/div/div/div/ul/li[1]/input\")\n",
    "location_2.send_keys('Delhi')\n",
    "\n",
    "companyname_2=driver.find_elements(By.XPATH,\"/html/body/div/div[4]/div/div[2]/div[2]/div/form/div/div[1]/ul/li[2]/div/input\")\n",
    "companyname_2.send_keys('Delhi/NCR')\n",
    "\n",
    "exp_2=driver.find_elements(By.XPATH,\"/html/body/div/div[4]/div/div[2]/div[2]/div/form/div/div[1]/ul/li[2]/div/input\")\n",
    "exp_2.send_keys('Delhi/NCR')\n"
   ]
  },
  {
   "cell_type": "code",
   "execution_count": 307,
   "id": "31fc129e",
   "metadata": {},
   "outputs": [],
   "source": [
    "job_title_2=[]\n",
    "job_location_2=[]\n",
    "company_name_2=[]\n",
    "exp_2=[]"
   ]
  },
  {
   "cell_type": "code",
   "execution_count": 312,
   "id": "5e4b6cfb",
   "metadata": {},
   "outputs": [],
   "source": [
    "#Scraping job title from the given page\n",
    "\n",
    "tag_job_title_2=driver.find_elements(By.XPATH,'//h2[@itemprop=\"name\"]')\n",
    "\n",
    "for i in tag_job_title_2:\n",
    "    title_2=i.text\n",
    "    job_title_2.append(title_2)"
   ]
  },
  {
   "cell_type": "code",
   "execution_count": 323,
   "id": "bab045d2",
   "metadata": {},
   "outputs": [],
   "source": [
    "#Scraping job location from the given page\n",
    "\n",
    "tag_job_location_2=driver.find_elements(By.XPATH,'//div[@class=\" jobCard_jobCard_lists_item__YxRkV jobCard_locationIcon__zrWt2\"]')\n",
    "\n",
    "for i in tag_job_location_2:\n",
    "    location_2=i.text\n",
    "    job_location_2.append(location_2)"
   ]
  },
  {
   "cell_type": "code",
   "execution_count": 339,
   "id": "c1298c29",
   "metadata": {},
   "outputs": [],
   "source": [
    "#Scraping company from the given page\n",
    "\n",
    "tag_company2=driver.find_elements(By.XPATH,'//div[@class=\"jobCard_jobCard_cName__mYnow\"]')\n",
    "\n",
    "for i in tag_company2:\n",
    "    company_name_2.append(i.text.replace('\\n+6',''))"
   ]
  },
  {
   "cell_type": "code",
   "execution_count": 342,
   "id": "ca1a149c",
   "metadata": {},
   "outputs": [],
   "source": [
    "#Scraping experience from the given page\n",
    "tag_exp2=driver.find_elements(By.XPATH,'//div[@class=\" jobCard_jobCard_lists_item__YxRkV jobCard_jobIcon__3FB1t\"]')\n",
    "\n",
    "for i in tag_exp2:\n",
    "    exp_2.append(i.text)"
   ]
  },
  {
   "cell_type": "code",
   "execution_count": 344,
   "id": "1f55601a",
   "metadata": {},
   "outputs": [],
   "source": [
    "job_2=job_title_2[:10]\n",
    "location_2=job_location_2[:10]\n",
    "company_2=company_name_2[:10]\n",
    "exp2=exp_2[:10]"
   ]
  },
  {
   "cell_type": "code",
   "execution_count": 345,
   "id": "e2669360",
   "metadata": {},
   "outputs": [],
   "source": [
    "df3=pd.DataFrame({'Job Title':job_2,'Location':location_2,'Company Name':company_2, 'Experience':exp2})"
   ]
  },
  {
   "cell_type": "code",
   "execution_count": 346,
   "id": "c0d08bcf",
   "metadata": {},
   "outputs": [
    {
     "data": {
      "text/html": [
       "<div>\n",
       "<style scoped>\n",
       "    .dataframe tbody tr th:only-of-type {\n",
       "        vertical-align: middle;\n",
       "    }\n",
       "\n",
       "    .dataframe tbody tr th {\n",
       "        vertical-align: top;\n",
       "    }\n",
       "\n",
       "    .dataframe thead th {\n",
       "        text-align: right;\n",
       "    }\n",
       "</style>\n",
       "<table border=\"1\" class=\"dataframe\">\n",
       "  <thead>\n",
       "    <tr style=\"text-align: right;\">\n",
       "      <th></th>\n",
       "      <th>Job Title</th>\n",
       "      <th>Location</th>\n",
       "      <th>Company Name</th>\n",
       "      <th>Experience</th>\n",
       "    </tr>\n",
       "  </thead>\n",
       "  <tbody>\n",
       "    <tr>\n",
       "      <th>0</th>\n",
       "      <td>Data Scientist for Delhi</td>\n",
       "      <td>Delhi</td>\n",
       "      <td>Delhi\\n+6</td>\n",
       "      <td>0 to 3 Yrs</td>\n",
       "    </tr>\n",
       "    <tr>\n",
       "      <th>1</th>\n",
       "      <td>Data Scientist for Delhi</td>\n",
       "      <td>Delhi</td>\n",
       "      <td>Delhi\\n+6</td>\n",
       "      <td>0 to 3 Yrs</td>\n",
       "    </tr>\n",
       "    <tr>\n",
       "      <th>2</th>\n",
       "      <td>Data Scientist- Delhi</td>\n",
       "      <td>Delhi</td>\n",
       "      <td>Delhi\\n+6</td>\n",
       "      <td>0 to 3 Yrs</td>\n",
       "    </tr>\n",
       "    <tr>\n",
       "      <th>3</th>\n",
       "      <td>Data Scientist-Delhi</td>\n",
       "      <td>Delhi\\n+6</td>\n",
       "      <td>Delhi\\n+6</td>\n",
       "      <td>0 to 1 Yr</td>\n",
       "    </tr>\n",
       "    <tr>\n",
       "      <th>4</th>\n",
       "      <td>Clinical Data Management</td>\n",
       "      <td>Delhi</td>\n",
       "      <td>Delhi\\n+6</td>\n",
       "      <td>0 to 3 Yrs</td>\n",
       "    </tr>\n",
       "    <tr>\n",
       "      <th>5</th>\n",
       "      <td>Data Scientist- Delhi</td>\n",
       "      <td>Delhi</td>\n",
       "      <td>Delhi\\n+6</td>\n",
       "      <td>0 to 3 Yrs</td>\n",
       "    </tr>\n",
       "    <tr>\n",
       "      <th>6</th>\n",
       "      <td>Data Scientist- Delhi</td>\n",
       "      <td>Delhi\\n+6</td>\n",
       "      <td>Delhi\\n+6</td>\n",
       "      <td>0 to 1 Yr</td>\n",
       "    </tr>\n",
       "    <tr>\n",
       "      <th>7</th>\n",
       "      <td>Clinical Data Manager</td>\n",
       "      <td>Delhi\\n+4</td>\n",
       "      <td>Delhi\\n+6</td>\n",
       "      <td>0 to 4 Yrs</td>\n",
       "    </tr>\n",
       "    <tr>\n",
       "      <th>8</th>\n",
       "      <td>Work Full/part-time / Work From Home / Compute...</td>\n",
       "      <td>Delhi\\n+4</td>\n",
       "      <td>Delhi\\n+6</td>\n",
       "      <td>0 to 4 Yrs</td>\n",
       "    </tr>\n",
       "    <tr>\n",
       "      <th>9</th>\n",
       "      <td>Typing Work-Data Entry-Computer Operator-Freel...</td>\n",
       "      <td>Delhi\\n+6</td>\n",
       "      <td>Delhi\\n+6</td>\n",
       "      <td>0 to 1 Yr</td>\n",
       "    </tr>\n",
       "  </tbody>\n",
       "</table>\n",
       "</div>"
      ],
      "text/plain": [
       "                                           Job Title   Location Company Name  \\\n",
       "0                           Data Scientist for Delhi      Delhi    Delhi\\n+6   \n",
       "1                           Data Scientist for Delhi      Delhi    Delhi\\n+6   \n",
       "2                              Data Scientist- Delhi      Delhi    Delhi\\n+6   \n",
       "3                               Data Scientist-Delhi  Delhi\\n+6    Delhi\\n+6   \n",
       "4                           Clinical Data Management      Delhi    Delhi\\n+6   \n",
       "5                              Data Scientist- Delhi      Delhi    Delhi\\n+6   \n",
       "6                              Data Scientist- Delhi  Delhi\\n+6    Delhi\\n+6   \n",
       "7                              Clinical Data Manager  Delhi\\n+4    Delhi\\n+6   \n",
       "8  Work Full/part-time / Work From Home / Compute...  Delhi\\n+4    Delhi\\n+6   \n",
       "9  Typing Work-Data Entry-Computer Operator-Freel...  Delhi\\n+6    Delhi\\n+6   \n",
       "\n",
       "   Experience  \n",
       "0  0 to 3 Yrs  \n",
       "1  0 to 3 Yrs  \n",
       "2  0 to 3 Yrs  \n",
       "3   0 to 1 Yr  \n",
       "4  0 to 3 Yrs  \n",
       "5  0 to 3 Yrs  \n",
       "6   0 to 1 Yr  \n",
       "7  0 to 4 Yrs  \n",
       "8  0 to 4 Yrs  \n",
       "9   0 to 1 Yr  "
      ]
     },
     "execution_count": 346,
     "metadata": {},
     "output_type": "execute_result"
    }
   ],
   "source": [
    "df3"
   ]
  },
  {
   "cell_type": "code",
   "execution_count": null,
   "id": "422a90ac",
   "metadata": {},
   "outputs": [],
   "source": []
  },
  {
   "cell_type": "markdown",
   "id": "9e80d12f",
   "metadata": {},
   "source": [
    "# Q4: Scrape data of first 100 sunglasses listings on flipkart.com. You have to scrape four attributes:\n",
    "6. Brand\n",
    "7. Product Description\n",
    "8. Price\n",
    "\n",
    "The attributes which you have to scrape is ticked marked in the below image.\n",
    "To scrape the data you have to go through following steps:\n",
    "1. Go to Flipkart webpage by url : https://www.flipkart.com/\n",
    "2. Enter “sunglasses” in the search field where “search for products, brands and more” is written and click the search icon\n",
    "3. After that you will reach to the page having a lot of sunglasses. From this page you can scrap the required data as usual.\n",
    "4. After scraping data from the first page, go to the “Next” Button at the bottom other page , then\n",
    "click on it.\n",
    "5. Now scrape data from this page as usual\n",
    "6. Repeat this until you get data for 100sunglasses."
   ]
  },
  {
   "cell_type": "code",
   "execution_count": 47,
   "id": "74e1d0ef",
   "metadata": {},
   "outputs": [],
   "source": [
    "#Opening the Shine page on automated Chrome browser\n",
    "driver=webdriver.Chrome()\n",
    "driver.get(\"https://www.flipkart.com/\")"
   ]
  },
  {
   "cell_type": "code",
   "execution_count": 55,
   "id": "f546e66c",
   "metadata": {},
   "outputs": [],
   "source": [
    "sunglass=driver.find_element(By.XPATH,'/html/body/div/div/div[1]/div[1]/div[2]/div[2]/form/div/div/input')\n",
    "sunglass.send_keys('sunglasses')\n",
    "\n",
    "searchflipkart=driver.find_element(By.XPATH,'/html/body/div/div/div[1]/div[1]/div[2]/div[2]/form/div/button')\n",
    "searchflipkart.click()\n"
   ]
  },
  {
   "cell_type": "code",
   "execution_count": 80,
   "id": "45813f18",
   "metadata": {},
   "outputs": [],
   "source": [
    "brand_name=[]\n",
    "product_description=[]\n",
    "product_price=[]"
   ]
  },
  {
   "cell_type": "code",
   "execution_count": 91,
   "id": "4861aff1",
   "metadata": {},
   "outputs": [],
   "source": [
    "#Scraping brand of sunglasses from 3 pages\n",
    "start=0\n",
    "end=3\n",
    "\n",
    "for page in range (start,end):\n",
    "    tag_brand=driver.find_elements(By.XPATH,'//div[@class=\"_2WkVRV\"]')\n",
    "    for i in tag_brand:\n",
    "        brand_name.append(i.text)\n",
    "        \n",
    "    next_button=driver.find_element(By.XPATH,'/html/body/div/div/div[3]/div[1]/div[2]/div[12]/div/div/nav/a[11]')\n",
    "    next_button.click()\n",
    "    time.sleep(3)"
   ]
  },
  {
   "cell_type": "code",
   "execution_count": 92,
   "id": "275fba40",
   "metadata": {},
   "outputs": [],
   "source": [
    "#Scraping product_description of sunglasses from 3 pages\n",
    "start=0\n",
    "end=3\n",
    "\n",
    "for page in range (start,end):\n",
    "    tag_description=driver.find_elements(By.XPATH,'//a[@class=\"IRpwTa\"]')\n",
    "    for i in tag_description:\n",
    "        product_description.append(i.text)\n",
    "        \n",
    "    next_button=driver.find_element(By.XPATH,'/html/body/div/div/div[3]/div[1]/div[2]/div[12]/div/div/nav/a[11]')\n",
    "    next_button.click()\n",
    "    time.sleep(3)"
   ]
  },
  {
   "cell_type": "code",
   "execution_count": 81,
   "id": "25a8806b",
   "metadata": {},
   "outputs": [],
   "source": [
    "#Scraping price of sunglasses from 3 pages\n",
    "start=0\n",
    "end=3\n",
    "\n",
    "for page in range (start,end):\n",
    "    tag_price=driver.find_elements(By.XPATH,'//div[@class=\"_25b18c\"]')\n",
    "    for i in tag_price:\n",
    "        product_price.append(i.text)\n",
    "        \n",
    "    next_button=driver.find_element(By.XPATH,'/html/body/div/div/div[3]/div[1]/div[2]/div[12]/div/div/nav/a[11]')\n",
    "    next_button.click()\n",
    "    time.sleep(3)"
   ]
  },
  {
   "cell_type": "code",
   "execution_count": 93,
   "id": "9470d1ca",
   "metadata": {},
   "outputs": [],
   "source": [
    "brand=brand_name[0:100]\n",
    "description=product_description[0:100]\n",
    "price=product_price[0:100]"
   ]
  },
  {
   "cell_type": "code",
   "execution_count": 94,
   "id": "93e3d96c",
   "metadata": {},
   "outputs": [
    {
     "data": {
      "text/plain": [
       "(100, 100, 100)"
      ]
     },
     "execution_count": 94,
     "metadata": {},
     "output_type": "execute_result"
    }
   ],
   "source": [
    "len(brand),len(description),len(price)"
   ]
  },
  {
   "cell_type": "code",
   "execution_count": 95,
   "id": "9ee255f8",
   "metadata": {},
   "outputs": [],
   "source": [
    "df3=pd.DataFrame({'Brand Name':brand,'Product Description':description,'Price':price})"
   ]
  },
  {
   "cell_type": "code",
   "execution_count": 96,
   "id": "b754adc9",
   "metadata": {},
   "outputs": [
    {
     "data": {
      "text/html": [
       "<div>\n",
       "<style scoped>\n",
       "    .dataframe tbody tr th:only-of-type {\n",
       "        vertical-align: middle;\n",
       "    }\n",
       "\n",
       "    .dataframe tbody tr th {\n",
       "        vertical-align: top;\n",
       "    }\n",
       "\n",
       "    .dataframe thead th {\n",
       "        text-align: right;\n",
       "    }\n",
       "</style>\n",
       "<table border=\"1\" class=\"dataframe\">\n",
       "  <thead>\n",
       "    <tr style=\"text-align: right;\">\n",
       "      <th></th>\n",
       "      <th>Brand Name</th>\n",
       "      <th>Product Description</th>\n",
       "      <th>Price</th>\n",
       "    </tr>\n",
       "  </thead>\n",
       "  <tbody>\n",
       "    <tr>\n",
       "      <th>0</th>\n",
       "      <td>SYGA</td>\n",
       "      <td>UV Protection, Gradient Oval Sunglasses (Free ...</td>\n",
       "      <td>₹584₹2,59977% off</td>\n",
       "    </tr>\n",
       "    <tr>\n",
       "      <th>1</th>\n",
       "      <td>IDEE</td>\n",
       "      <td>UV Protection Retro Square Sunglasses (56)</td>\n",
       "      <td>₹142₹79982% off</td>\n",
       "    </tr>\n",
       "    <tr>\n",
       "      <th>2</th>\n",
       "      <td>SYGA</td>\n",
       "      <td>UV Protection Round Sunglasses (53)</td>\n",
       "      <td>₹2,399₹6,00060% off</td>\n",
       "    </tr>\n",
       "    <tr>\n",
       "      <th>3</th>\n",
       "      <td>john jacobs</td>\n",
       "      <td>UV Protection Cat-eye Sunglasses (54)</td>\n",
       "      <td>₹129₹49974% off</td>\n",
       "    </tr>\n",
       "    <tr>\n",
       "      <th>4</th>\n",
       "      <td>PETER JONES</td>\n",
       "      <td>UV Protection, Gradient Retro Square Sunglasse...</td>\n",
       "      <td>₹8,309₹10,39020% off</td>\n",
       "    </tr>\n",
       "    <tr>\n",
       "      <th>...</th>\n",
       "      <td>...</td>\n",
       "      <td>...</td>\n",
       "      <td>...</td>\n",
       "    </tr>\n",
       "    <tr>\n",
       "      <th>95</th>\n",
       "      <td>HRX by Hrithik Roshan</td>\n",
       "      <td>UV Protection Butterfly, Retro Square Sunglass...</td>\n",
       "      <td>₹479₹1,99976% off</td>\n",
       "    </tr>\n",
       "    <tr>\n",
       "      <th>96</th>\n",
       "      <td>Ray-Ban</td>\n",
       "      <td>Polarized, UV Protection Rectangular Sunglasse...</td>\n",
       "      <td>₹799₹2,49968% off</td>\n",
       "    </tr>\n",
       "    <tr>\n",
       "      <th>97</th>\n",
       "      <td>OAKLEY</td>\n",
       "      <td>Gradient Aviator Sunglasses (58)</td>\n",
       "      <td>₹175₹99982% off</td>\n",
       "    </tr>\n",
       "    <tr>\n",
       "      <th>98</th>\n",
       "      <td>AKAYI</td>\n",
       "      <td>UV Protection Wayfarer, Rectangular Sunglasses...</td>\n",
       "      <td>₹8,869₹11,09020% off</td>\n",
       "    </tr>\n",
       "    <tr>\n",
       "      <th>99</th>\n",
       "      <td>IRUS</td>\n",
       "      <td>UV Protection Aviator Sunglasses (Free Size)</td>\n",
       "      <td>₹8,869₹11,09020% off</td>\n",
       "    </tr>\n",
       "  </tbody>\n",
       "</table>\n",
       "<p>100 rows × 3 columns</p>\n",
       "</div>"
      ],
      "text/plain": [
       "               Brand Name                                Product Description  \\\n",
       "0                    SYGA  UV Protection, Gradient Oval Sunglasses (Free ...   \n",
       "1                    IDEE         UV Protection Retro Square Sunglasses (56)   \n",
       "2                    SYGA                UV Protection Round Sunglasses (53)   \n",
       "3             john jacobs              UV Protection Cat-eye Sunglasses (54)   \n",
       "4             PETER JONES  UV Protection, Gradient Retro Square Sunglasse...   \n",
       "..                    ...                                                ...   \n",
       "95  HRX by Hrithik Roshan  UV Protection Butterfly, Retro Square Sunglass...   \n",
       "96                Ray-Ban  Polarized, UV Protection Rectangular Sunglasse...   \n",
       "97                 OAKLEY                   Gradient Aviator Sunglasses (58)   \n",
       "98                  AKAYI  UV Protection Wayfarer, Rectangular Sunglasses...   \n",
       "99                   IRUS       UV Protection Aviator Sunglasses (Free Size)   \n",
       "\n",
       "                   Price  \n",
       "0      ₹584₹2,59977% off  \n",
       "1        ₹142₹79982% off  \n",
       "2    ₹2,399₹6,00060% off  \n",
       "3        ₹129₹49974% off  \n",
       "4   ₹8,309₹10,39020% off  \n",
       "..                   ...  \n",
       "95     ₹479₹1,99976% off  \n",
       "96     ₹799₹2,49968% off  \n",
       "97       ₹175₹99982% off  \n",
       "98  ₹8,869₹11,09020% off  \n",
       "99  ₹8,869₹11,09020% off  \n",
       "\n",
       "[100 rows x 3 columns]"
      ]
     },
     "execution_count": 96,
     "metadata": {},
     "output_type": "execute_result"
    }
   ],
   "source": [
    "df3"
   ]
  },
  {
   "cell_type": "code",
   "execution_count": null,
   "id": "10953cf8",
   "metadata": {},
   "outputs": [],
   "source": []
  },
  {
   "cell_type": "markdown",
   "id": "06e2c23a",
   "metadata": {},
   "source": [
    "# Q5: Scrape 100 reviews data from flipkart.com for iphone11 phone. \n",
    "\n",
    "You have to go the link: https://www.flipkart.com/apple-iphone-11-black-64-gb/product- reviews/itm4e5041ba101fd?pid=MOBFWQ6BXGJCEYNY&lid=LSTMOBFWQ6BXGJCEYNYZXSHRJ&market place=FLIPKART\n",
    "As shown in the above page you have to scrape the tick marked attributes. These are:\n",
    "1. Rating\n",
    "2. Review summary\n",
    "3. Full review\n",
    "4. You have to scrape this data for first 100reviews."
   ]
  },
  {
   "cell_type": "code",
   "execution_count": 97,
   "id": "319f3a1d",
   "metadata": {},
   "outputs": [],
   "source": [
    "#Opening the flipkart.com for iphone11 page on automated Chrome browser\n",
    "driver=webdriver.Chrome()\n",
    "driver.get(\"https://www.flipkart.com/apple-iphone-11-black-64-gb/product-reviews/itm4e5041ba101fd?pid=MOBFWQ6BXGJCEYNY&lid=LSTMOBFWQ6BXGJCEYNYZXSHRJ&market\")"
   ]
  },
  {
   "cell_type": "code",
   "execution_count": 163,
   "id": "cb16f378",
   "metadata": {},
   "outputs": [],
   "source": [
    "rating=[]\n",
    "summary=[]\n",
    "review=[]"
   ]
  },
  {
   "cell_type": "code",
   "execution_count": 169,
   "id": "69ccde7c",
   "metadata": {},
   "outputs": [],
   "source": [
    "#Scraping rating, summary & reivew from 10 pages\n",
    "start=0\n",
    "end=10\n",
    "\n",
    "for page in range (start,end):\n",
    "    tag_rating=driver.find_elements(By.XPATH,'//div[@class=\"_3LWZlK _1BLPMq\"]')\n",
    "    for i in tag_rating:\n",
    "        rating.append(i.text)\n",
    "           \n",
    "    next_button=driver.find_element(By.XPATH,'/html/body/div/div/div[3]/div/div/div[2]/div[13]/div/div/nav/a[12]/span')\n",
    "    next_button.click()\n",
    "    time.sleep(3)"
   ]
  },
  {
   "cell_type": "code",
   "execution_count": 180,
   "id": "a209709f",
   "metadata": {},
   "outputs": [],
   "source": [
    "\n",
    "start=0\n",
    "end=10\n",
    "\n",
    "for page in range (start,end):    \n",
    "    tag_summary=driver.find_elements(By.XPATH,'//div[@class=\"col _2wzgFH K0kLPL\"]/div[1]')\n",
    "    for i in tag_summary:\n",
    "        summary.append(i.text.replace('5\\n',''))\n",
    "        \n",
    "    next_button=driver.find_element(By.XPATH,'/html/body/div/div/div[3]/div/div/div[2]/div[13]/div/div/nav/a[12]/span')\n",
    "    next_button.click()\n",
    "    time.sleep(3)"
   ]
  },
  {
   "cell_type": "code",
   "execution_count": 191,
   "id": "32b63a48",
   "metadata": {},
   "outputs": [],
   "source": [
    "start=0\n",
    "end=10\n",
    "\n",
    "for page in range (start,end):\n",
    "    tag_review=driver.find_elements(By.XPATH,'//div[@class=\"t-ZTKy\"]/div/div')\n",
    "    for i in tag_review:\n",
    "        review.append(i.text)\n",
    "           \n",
    "    next_button=driver.find_element(By.XPATH,'/html/body/div/div/div[3]/div/div/div[2]/div[13]/div/div/nav/a[11]')\n",
    "    next_button.click()\n",
    "    time.sleep(3)"
   ]
  },
  {
   "cell_type": "code",
   "execution_count": 193,
   "id": "c2da3c72",
   "metadata": {},
   "outputs": [],
   "source": [
    "Rating=rating[:100]\n",
    "Review_summary=summary[:100]\n",
    "Full_reviwe=review[:100]"
   ]
  },
  {
   "cell_type": "code",
   "execution_count": 194,
   "id": "fa7142aa",
   "metadata": {},
   "outputs": [
    {
     "name": "stdout",
     "output_type": "stream",
     "text": [
      "100 100 100\n"
     ]
    }
   ],
   "source": [
    "print(len(Rating),len(Review_summary),len(Full_reviwe))"
   ]
  },
  {
   "cell_type": "code",
   "execution_count": 195,
   "id": "7b34d52e",
   "metadata": {},
   "outputs": [],
   "source": [
    "df4=pd.DataFrame({'Rating':Rating,'Review Summary':Review_summary,'Full Review':Full_reviwe})"
   ]
  },
  {
   "cell_type": "code",
   "execution_count": 196,
   "id": "71a15853",
   "metadata": {},
   "outputs": [
    {
     "data": {
      "text/html": [
       "<div>\n",
       "<style scoped>\n",
       "    .dataframe tbody tr th:only-of-type {\n",
       "        vertical-align: middle;\n",
       "    }\n",
       "\n",
       "    .dataframe tbody tr th {\n",
       "        vertical-align: top;\n",
       "    }\n",
       "\n",
       "    .dataframe thead th {\n",
       "        text-align: right;\n",
       "    }\n",
       "</style>\n",
       "<table border=\"1\" class=\"dataframe\">\n",
       "  <thead>\n",
       "    <tr style=\"text-align: right;\">\n",
       "      <th></th>\n",
       "      <th>Rating</th>\n",
       "      <th>Review Summary</th>\n",
       "      <th>Full Review</th>\n",
       "    </tr>\n",
       "  </thead>\n",
       "  <tbody>\n",
       "    <tr>\n",
       "      <th>0</th>\n",
       "      <td>4</td>\n",
       "      <td>4\\nGood quality product</td>\n",
       "      <td>iPhone 11 is a good phone. Not a very big diff...</td>\n",
       "    </tr>\n",
       "    <tr>\n",
       "      <th>1</th>\n",
       "      <td>5</td>\n",
       "      <td>Super!</td>\n",
       "      <td>Photos super</td>\n",
       "    </tr>\n",
       "    <tr>\n",
       "      <th>2</th>\n",
       "      <td>5</td>\n",
       "      <td>Worth every penny</td>\n",
       "      <td>Camera is awesome\\nBest battery backup\\nA perf...</td>\n",
       "    </tr>\n",
       "    <tr>\n",
       "      <th>3</th>\n",
       "      <td>4</td>\n",
       "      <td>4\\nWorth the money</td>\n",
       "      <td>Good Camera</td>\n",
       "    </tr>\n",
       "    <tr>\n",
       "      <th>4</th>\n",
       "      <td>5</td>\n",
       "      <td>Perfect product!</td>\n",
       "      <td>Feeling awesome after getting the delivery of ...</td>\n",
       "    </tr>\n",
       "    <tr>\n",
       "      <th>...</th>\n",
       "      <td>...</td>\n",
       "      <td>...</td>\n",
       "      <td>...</td>\n",
       "    </tr>\n",
       "    <tr>\n",
       "      <th>95</th>\n",
       "      <td>5</td>\n",
       "      <td>Classy product</td>\n",
       "      <td>Excellent Phone.</td>\n",
       "    </tr>\n",
       "    <tr>\n",
       "      <th>96</th>\n",
       "      <td>5</td>\n",
       "      <td>Terrific</td>\n",
       "      <td>It’s very good battery life and display and vi...</td>\n",
       "    </tr>\n",
       "    <tr>\n",
       "      <th>97</th>\n",
       "      <td>5</td>\n",
       "      <td>Simply awesome</td>\n",
       "      <td>Purple is best</td>\n",
       "    </tr>\n",
       "    <tr>\n",
       "      <th>98</th>\n",
       "      <td>5</td>\n",
       "      <td>Terrific purchase</td>\n",
       "      <td>NYC</td>\n",
       "    </tr>\n",
       "    <tr>\n",
       "      <th>99</th>\n",
       "      <td>5</td>\n",
       "      <td>Mind-blowing purchase</td>\n",
       "      <td>Good product 👌I love iPhone</td>\n",
       "    </tr>\n",
       "  </tbody>\n",
       "</table>\n",
       "<p>100 rows × 3 columns</p>\n",
       "</div>"
      ],
      "text/plain": [
       "   Rating           Review Summary  \\\n",
       "0       4  4\\nGood quality product   \n",
       "1       5                   Super!   \n",
       "2       5        Worth every penny   \n",
       "3       4       4\\nWorth the money   \n",
       "4       5         Perfect product!   \n",
       "..    ...                      ...   \n",
       "95      5           Classy product   \n",
       "96      5                 Terrific   \n",
       "97      5           Simply awesome   \n",
       "98      5        Terrific purchase   \n",
       "99      5    Mind-blowing purchase   \n",
       "\n",
       "                                          Full Review  \n",
       "0   iPhone 11 is a good phone. Not a very big diff...  \n",
       "1                                        Photos super  \n",
       "2   Camera is awesome\\nBest battery backup\\nA perf...  \n",
       "3                                         Good Camera  \n",
       "4   Feeling awesome after getting the delivery of ...  \n",
       "..                                                ...  \n",
       "95                                   Excellent Phone.  \n",
       "96  It’s very good battery life and display and vi...  \n",
       "97                                     Purple is best  \n",
       "98                                                NYC  \n",
       "99                        Good product 👌I love iPhone  \n",
       "\n",
       "[100 rows x 3 columns]"
      ]
     },
     "execution_count": 196,
     "metadata": {},
     "output_type": "execute_result"
    }
   ],
   "source": [
    "df4"
   ]
  },
  {
   "cell_type": "code",
   "execution_count": null,
   "id": "d66daa64",
   "metadata": {},
   "outputs": [],
   "source": []
  }
 ],
 "metadata": {
  "kernelspec": {
   "display_name": "Python 3 (ipykernel)",
   "language": "python",
   "name": "python3"
  },
  "language_info": {
   "codemirror_mode": {
    "name": "ipython",
    "version": 3
   },
   "file_extension": ".py",
   "mimetype": "text/x-python",
   "name": "python",
   "nbconvert_exporter": "python",
   "pygments_lexer": "ipython3",
   "version": "3.10.9"
  }
 },
 "nbformat": 4,
 "nbformat_minor": 5
}
